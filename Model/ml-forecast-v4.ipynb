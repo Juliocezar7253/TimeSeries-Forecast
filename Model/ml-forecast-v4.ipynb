{
 "cells": [
  {
   "cell_type": "code",
   "id": "initial_id",
   "metadata": {
    "collapsed": true
   },
   "source": [
    "import torch\n",
    "import torch.nn as nn\n",
    "import numpy as np\n",
    "import pandas as pd\n",
    "from sklearn.preprocessing import MinMaxScaler\n",
    "from sklearn.metrics import mean_squared_error"
   ],
   "outputs": [],
   "execution_count": null
  },
  {
   "metadata": {},
   "cell_type": "code",
   "source": "df = pd.read_excel('../Input/DadosCompeticao.xlsx')",
   "id": "ca1f351f6d4b359b",
   "outputs": [],
   "execution_count": null
  },
  {
   "metadata": {},
   "cell_type": "markdown",
   "source": "#### Pytorch LSTM -> WRMSE = 0.09791456241015854",
   "id": "2fe8f12fe9438d6e"
  },
  {
   "metadata": {},
   "cell_type": "code",
   "source": [
    "DEVICE = 'cuda' if torch.cuda.is_available() else 'cpu'\n",
    "N_PAST = min(10, df.shape[0] - N_FUTURE - 1)\n",
    "N_FUTURE = 12\n",
    "EPOCHS = 100\n",
    "LR = 0.01 # Validar Learning rate\n",
    "\n",
    "## ========== Aplicar grid search para hiperparametros ============"
   ],
   "id": "28d7ec5944fc962a",
   "outputs": [],
   "execution_count": null
  },
  {
   "metadata": {},
   "cell_type": "code",
   "source": [
    "def create_dataset(series, n_past, n_future):\n",
    "    X, y = [], []\n",
    "    for i in range(len(series) - n_past - n_future + 1):\n",
    "        X.append(series[i:i + n_past])\n",
    "        y.append(series[i + n_past:i + n_past + n_future])\n",
    "    return np.array(X), np.array(y)"
   ],
   "id": "a077d7d5776318ea",
   "outputs": [],
   "execution_count": null
  },
  {
   "metadata": {},
   "cell_type": "code",
   "source": [
    "class LSTMModel(nn.Module): #Todas apresentam aplicação linear, validar para tanh ou sigmoid\n",
    "    def __init__(self, input_size=1, hidden_size=64, num_layers=4, output_size=N_FUTURE, dropout=0.3):\n",
    "        super(LSTMModel, self).__init__()\n",
    "        self.lstm = nn.LSTM(\n",
    "            input_size=input_size,\n",
    "            hidden_size=hidden_size,\n",
    "            num_layers=num_layers,\n",
    "            dropout=dropout if num_layers > 1 else 0.0,\n",
    "            batch_first=True\n",
    "        )\n",
    "        self.dropout = nn.Dropout(dropout)\n",
    "        self.fc = nn.Linear(hidden_size, output_size)\n",
    "\n",
    "    def forward(self, x):\n",
    "        lstm_out, _ = self.lstm(x)\n",
    "        x = self.dropout(lstm_out[:, -1, :])  # pega o último estado oculto -> neurônio 64\n",
    "        return self.fc(x)\n"
   ],
   "id": "dfb8516c1d187799",
   "outputs": [],
   "execution_count": null
  },
  {
   "metadata": {},
   "cell_type": "code",
   "source": [
    "forecasts = {}\n",
    "scores = {}\n",
    "\n",
    "for col in df.columns:\n",
    "    print(f\"\\n ==== Treinando {col} ====\")\n",
    "\n",
    "    serie = df[col].values.reshape(-1, 1)\n",
    "    scaler = MinMaxScaler()\n",
    "    serie_scaled = scaler.fit_transform(serie)\n",
    "\n",
    "    X_np, y_np = create_dataset(serie_scaled, N_PAST, N_FUTURE)\n",
    "\n",
    "    if len(X_np) == 0:\n",
    "        print(f\"Série {col} não há valores suficientes para predição\")\n",
    "        continue\n",
    "\n",
    "    X_tensor = torch.tensor(X_np, dtype=torch.float32).to(DEVICE)\n",
    "    y_tensor = torch.tensor(y_np, dtype=torch.float32).to(DEVICE)\n",
    "\n",
    "    model = LSTMModel().to(DEVICE) ## GPU on\n",
    "    criterion = nn.MSELoss() # priorizar erro quadrádico médio -> Erro raíz\n",
    "    optimizer = torch.optim.Adam(model.parameters(), lr=LR) # Otimizador Adam\n",
    "\n",
    "    for epoch in range(EPOCHS):\n",
    "        model.train()\n",
    "        optimizer.zero_grad()\n",
    "        output = model(X_tensor)\n",
    "        loss = criterion(output, y_tensor.squeeze(-1))\n",
    "        loss.backward()\n",
    "        optimizer.step()\n",
    "\n",
    "    model.eval()\n",
    "    last_input = torch.tensor(serie_scaled[-N_PAST:], dtype=torch.float32).view(1, N_PAST, 1).to(DEVICE) #transform para tensor\n",
    "\n",
    "    with torch.no_grad():\n",
    "        prediction_scaled = model(last_input).cpu().numpy().flatten()\n",
    "\n",
    "    prediction = scaler.inverse_transform(prediction_scaled.reshape(-1, 1)).flatten()\n",
    "    true_values = df[col].values[-N_FUTURE:]\n",
    "\n",
    "    if len(true_values) == N_FUTURE:\n",
    "        rmse = np.sqrt(mean_squared_error(true_values, prediction))\n",
    "        scores[col] = rmse\n",
    "        forecasts[col] = prediction\n",
    "    else:\n",
    "        scores[col] = np.nan\n",
    "        forecasts[col] = prediction\n"
   ],
   "id": "5611a24757a47ff7",
   "outputs": [],
   "execution_count": null
  },
  {
   "metadata": {},
   "cell_type": "code",
   "source": [
    "df_forecasts = pd.DataFrame(forecasts)\n",
    "df_scores = pd.DataFrame(list(scores.items()), columns=['Série', 'RMSE'])"
   ],
   "id": "6796b593b2adc3ef",
   "outputs": [],
   "execution_count": null
  },
  {
   "metadata": {},
   "cell_type": "code",
   "source": [
    "df_forecasts.to_excel('../Output/v4/previsoes_torch.xlsx', index=False)\n",
    "df_scores.to_excel('../Output/v4/scores_torch.xlsx')"
   ],
   "id": "6b1c46130f707db8",
   "outputs": [],
   "execution_count": null
  },
  {
   "metadata": {},
   "cell_type": "code",
   "source": "wrmse = lambda rmse: (rmse[:11] * (1 / 11)).sum()",
   "id": "458e33a83c8b3a1c",
   "outputs": [],
   "execution_count": null
  },
  {
   "metadata": {
    "ExecuteTime": {
     "end_time": "2025-04-20T02:05:10.340827Z",
     "start_time": "2025-04-20T02:05:10.333543Z"
    }
   },
   "cell_type": "code",
   "source": "print(f'WRMSE = {wrmse(df_scores[\"RMSE\"])}')",
   "id": "e0e443361610effc",
   "outputs": [
    {
     "name": "stdout",
     "output_type": "stream",
     "text": [
      "WRMSE = 0.09791456241015854\n"
     ]
    }
   ],
   "execution_count": 41
  }
 ],
 "metadata": {
  "kernelspec": {
   "display_name": "Python 3",
   "language": "python",
   "name": "python3"
  },
  "language_info": {
   "codemirror_mode": {
    "name": "ipython",
    "version": 2
   },
   "file_extension": ".py",
   "mimetype": "text/x-python",
   "name": "python",
   "nbconvert_exporter": "python",
   "pygments_lexer": "ipython2",
   "version": "2.7.6"
  }
 },
 "nbformat": 4,
 "nbformat_minor": 5
}
