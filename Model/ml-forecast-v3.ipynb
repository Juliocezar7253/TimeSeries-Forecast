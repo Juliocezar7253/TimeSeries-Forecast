{
 "cells": [
  {
   "cell_type": "code",
   "id": "initial_id",
   "metadata": {
    "collapsed": true
   },
   "source": "# pip install pmdarima",
   "outputs": [],
   "execution_count": null
  },
  {
   "metadata": {},
   "cell_type": "code",
   "source": [
    "import pandas as pd\n",
    "import numpy as np\n",
    "from pmdarima import auto_arima\n",
    "from sklearn.metrics import root_mean_squared_error\n"
   ],
   "id": "b8ce958725f80807",
   "outputs": [],
   "execution_count": null
  },
  {
   "metadata": {},
   "cell_type": "code",
   "source": "df = pd.read_excel('../Input/DadosCompeticao.xlsx')",
   "id": "e58aec79209ee3ab",
   "outputs": [],
   "execution_count": null
  },
  {
   "metadata": {},
   "cell_type": "markdown",
   "source": [
    "#### Autoarima -> WRMSE = 0.07500016217479046\n",
    "    ** Usando sazonalidade"
   ],
   "id": "63c2e9498a4a71b1"
  },
  {
   "metadata": {},
   "cell_type": "code",
   "source": "forecast_window = 12",
   "id": "709407633c2984d1",
   "outputs": [],
   "execution_count": null
  },
  {
   "metadata": {},
   "cell_type": "code",
   "source": [
    "def get_forecast(df, forecast_window)-> (set, set):\n",
    "    forecasts = {}\n",
    "    scores = {}\n",
    "\n",
    "    for col in df.columns:\n",
    "        print(f'\\n ==== Treinamento para o modelo {col} ====')\n",
    "        series = df[col]\n",
    "\n",
    "        try:\n",
    "            if len(series) > forecast_window:\n",
    "                train = series[:-forecast_window]\n",
    "                test = series[-forecast_window:]\n",
    "            else:\n",
    "                train = series\n",
    "                test = None\n",
    "\n",
    "            model = auto_arima(train,\n",
    "                               seasonal=True,\n",
    "                               stepwise=True,\n",
    "                               suppress_warnings=True,\n",
    "                               error_action='ignore')\n",
    "\n",
    "            forecast = model.predict(n_periods=forecast_window)\n",
    "            forecasts[col] = forecast\n",
    "\n",
    "            if test is not None and len(test) == forecast_window:\n",
    "                rmse = root_mean_squared_error(test, forecast)\n",
    "                scores[col] = rmse\n",
    "            else:\n",
    "                scores[col] = np.nan\n",
    "\n",
    "        except Exception as e:\n",
    "            print(f\"Erro em {col}: {e}\")\n",
    "            forecasts[col] = np.full(forecast_window, np.nan)\n",
    "            scores[col] = np.nan\n",
    "\n",
    "    return forecasts, scores"
   ],
   "id": "6e48a2b7fdd94b09",
   "outputs": [],
   "execution_count": null
  },
  {
   "metadata": {},
   "cell_type": "code",
   "source": "forecast, score = get_forecast(df, forecast_window)",
   "id": "82c3c4553fc59c3d",
   "outputs": [],
   "execution_count": null
  },
  {
   "metadata": {},
   "cell_type": "code",
   "source": [
    "df_forecasts = pd.DataFrame(forecast)\n",
    "df_scores = pd.DataFrame(list(score.items()), columns=['Série', 'RMSE'])"
   ],
   "id": "f7d83cf29c547bd5",
   "outputs": [],
   "execution_count": null
  },
  {
   "metadata": {},
   "cell_type": "code",
   "source": [
    "df_forecasts.to_excel('../Output/v3/previsoes_arima.xlsx', index=False)\n",
    "df_scores.to_excel('../Output/v3/scores_arima.xlsx')"
   ],
   "id": "b88ba5d3e6db374c",
   "outputs": [],
   "execution_count": null
  },
  {
   "metadata": {},
   "cell_type": "code",
   "source": "wrmse = lambda rmse: (rmse[:11] * (1 / 11)).sum()",
   "id": "47e79941d3f9dd3d",
   "outputs": [],
   "execution_count": null
  },
  {
   "metadata": {
    "ExecuteTime": {
     "end_time": "2025-04-20T01:31:44.314717Z",
     "start_time": "2025-04-20T01:31:44.282918Z"
    }
   },
   "cell_type": "code",
   "source": "print(f'WRMSE = {wrmse(df_scores[\"RMSE\"])}')",
   "id": "c94d0a5b6d8dcb61",
   "outputs": [
    {
     "name": "stdout",
     "output_type": "stream",
     "text": [
      "WRMSE = 0.07500016217479046\n"
     ]
    }
   ],
   "execution_count": 20
  }
 ],
 "metadata": {
  "kernelspec": {
   "display_name": "Python 3",
   "language": "python",
   "name": "python3"
  },
  "language_info": {
   "codemirror_mode": {
    "name": "ipython",
    "version": 2
   },
   "file_extension": ".py",
   "mimetype": "text/x-python",
   "name": "python",
   "nbconvert_exporter": "python",
   "pygments_lexer": "ipython2",
   "version": "2.7.6"
  }
 },
 "nbformat": 4,
 "nbformat_minor": 5
}
