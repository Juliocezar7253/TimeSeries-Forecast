{
 "cells": [
  {
   "cell_type": "code",
   "id": "initial_id",
   "metadata": {
    "collapsed": true
   },
   "source": [
    "import pandas as pd\n",
    "import numpy as np\n",
    "from tensorflow.keras.models import Sequential\n",
    "from tensorflow.keras.layers import LSTM, Dense, Dropout\n",
    "from sklearn.preprocessing import MinMaxScaler\n",
    "from sklearn.metrics import root_mean_squared_error\n",
    "from sklearn.model_selection import TimeSeriesSplit"
   ],
   "outputs": [],
   "execution_count": null
  },
  {
   "metadata": {},
   "cell_type": "code",
   "source": "df = pd.read_excel('../Input/DadosCompeticao.xlsx')",
   "id": "1ed062fa9260ee78",
   "outputs": [],
   "execution_count": null
  },
  {
   "metadata": {},
   "cell_type": "markdown",
   "source": "#### NN com LSTM -> 3 camadas (WRMSE = 0.15065080631426203)",
   "id": "a1658ad048b886e1"
  },
  {
   "metadata": {},
   "cell_type": "code",
   "source": [
    "forecast_window = 12\n",
    "past_window = df.shape[1] - 1"
   ],
   "id": "1b205e2e84250bda",
   "outputs": [],
   "execution_count": null
  },
  {
   "metadata": {},
   "cell_type": "code",
   "source": "print(df.index)",
   "id": "5b03faf5065eff",
   "outputs": [],
   "execution_count": null
  },
  {
   "metadata": {},
   "cell_type": "code",
   "source": [
    "def data_preparation(series_scaled, forecast_window, past_window):\n",
    "    X, y = [], []\n",
    "    for i in range(len(series_scaled) - past_window - forecast_window + 1):\n",
    "        X.append(series_scaled[i:i + past_window])\n",
    "        y.append(series_scaled[i + past_window:i + past_window + forecast_window])\n",
    "    return np.array(X), np.array(y)"
   ],
   "id": "bd4c9bd9f986f944",
   "outputs": [],
   "execution_count": null
  },
  {
   "metadata": {},
   "cell_type": "code",
   "source": [
    "def LSTM_model(past_window, forecast_window):\n",
    "    model = Sequential([\n",
    "        LSTM(100, activation='relu', return_sequences=True, input_shape=(past_window, 1)),\n",
    "        Dropout(0.5),\n",
    "        LSTM(100, activation='relu', return_sequences=True),\n",
    "        Dropout(0.3),\n",
    "        LSTM(100, activation='relu', return_sequences=False),\n",
    "        Dropout(0.1),\n",
    "        Dense(100, activation='relu'),\n",
    "        Dense(forecast_window)\n",
    "    ])\n",
    "\n",
    "    model.compile(optimizer='adam', loss='mean_squared_error')\n",
    "    return model\n"
   ],
   "id": "b9d05e1d5cd9ef1f",
   "outputs": [],
   "execution_count": null
  },
  {
   "metadata": {},
   "cell_type": "code",
   "source": [
    "def NN(forecast_window, past_window, n_splits=3):\n",
    "    scores = {}\n",
    "    forecasts = {}\n",
    "\n",
    "    for col in df.columns:\n",
    "        print(f\"\\n==== série Treinada: {col} ====\")\n",
    "\n",
    "        series = df[col].values.reshape(-1, 1)\n",
    "        scaler = MinMaxScaler()\n",
    "        series_scaled = scaler.fit_transform(series)\n",
    "\n",
    "        X, y = data_preparation(series_scaled, forecast_window, past_window)\n",
    "        X = X.reshape((X.shape[0], past_window, 1))\n",
    "\n",
    "        tscv = TimeSeriesSplit(n_splits=n_splits) # split em time series, não em KFold\n",
    "        rmse_folds = []\n",
    "\n",
    "        ## Predição/Treino\n",
    "        for train_index, val_index in tscv.split(X):\n",
    "            X_train, X_val = X[train_index], X[val_index]\n",
    "            y_train, y_val = y[train_index], y[val_index]\n",
    "\n",
    "            model = LSTM_model(past_window, forecast_window)\n",
    "            model.fit(X_train, y_train, epochs=100, batch_size=32, verbose=0)\n",
    "\n",
    "            y_pred = model.predict(X_val)\n",
    "            y_val_rescaled = scaler.inverse_transform(y_val.reshape(-1, 1)).reshape(y_val.shape)\n",
    "            y_pred_rescaled = scaler.inverse_transform(y_pred.reshape(-1, 1)).reshape(y_pred.shape)\n",
    "\n",
    "            rmse = np.mean([\n",
    "                root_mean_squared_error(y_val_rescaled[:, i], y_pred_rescaled[:, i])\n",
    "                for i in range(forecast_window)\n",
    "            ])\n",
    "            rmse_folds.append(rmse)\n",
    "\n",
    "        scores[col] = np.mean(rmse_folds)\n",
    "\n",
    "        ## Previsão, variar batch_size... Grid search ou Bayesian search? LR estático em 0.001\n",
    "        last_input = series_scaled[-past_window:].reshape((1, past_window, 1))\n",
    "        model_final = LSTM_model(past_window, forecast_window)\n",
    "        model_final.fit(X, y, epochs=100, batch_size=32, verbose=0)\n",
    "        y_forecast = model_final.predict(last_input)\n",
    "        y_forecast_rescaled = scaler.inverse_transform(y_forecast.reshape(-1, 1)).flatten()\n",
    "\n",
    "        forecasts[col] = y_forecast_rescaled\n",
    "\n",
    "    return forecasts, scores\n"
   ],
   "id": "8c30db3468570639",
   "outputs": [],
   "execution_count": null
  },
  {
   "metadata": {},
   "cell_type": "code",
   "source": "forecast_set, score_set = NN(forecast_window, past_window)",
   "id": "c7c4ff3963c34574",
   "outputs": [],
   "execution_count": null
  },
  {
   "metadata": {},
   "cell_type": "code",
   "source": [
    "forecast = pd.DataFrame(forecast_set)\n",
    "df_scores = pd.DataFrame.from_dict(score_set, orient='index', columns=['RMSE'])"
   ],
   "id": "ea562eaf5874fbce",
   "outputs": [],
   "execution_count": null
  },
  {
   "metadata": {},
   "cell_type": "code",
   "source": [
    "forecast.to_excel('../Output/v2/previsoes_lstm.xlsx', index=False)\n",
    "df_scores.to_excel('../Output/v2/scores_lstm.xlsx', index=False)"
   ],
   "id": "f59efca5a17acc13",
   "outputs": [],
   "execution_count": null
  },
  {
   "metadata": {},
   "cell_type": "code",
   "source": "wrmse = lambda rmse: (rmse[:11] * (1 / 11)).sum()",
   "id": "c873c040a189e109",
   "outputs": [],
   "execution_count": null
  },
  {
   "metadata": {
    "ExecuteTime": {
     "end_time": "2025-04-20T01:31:49.581053Z",
     "start_time": "2025-04-20T01:31:49.573138Z"
    }
   },
   "cell_type": "code",
   "source": "print(f'WRMSE = {wrmse(df_scores[\"RMSE\"])}')",
   "id": "3b2bb5de4d4fab39",
   "outputs": [
    {
     "name": "stdout",
     "output_type": "stream",
     "text": [
      "WRMSE = 0.15065080631426203\n"
     ]
    }
   ],
   "execution_count": 61
  }
 ],
 "metadata": {
  "kernelspec": {
   "display_name": "Python 3",
   "language": "python",
   "name": "python3"
  },
  "language_info": {
   "codemirror_mode": {
    "name": "ipython",
    "version": 2
   },
   "file_extension": ".py",
   "mimetype": "text/x-python",
   "name": "python",
   "nbconvert_exporter": "python",
   "pygments_lexer": "ipython2",
   "version": "2.7.6"
  }
 },
 "nbformat": 4,
 "nbformat_minor": 5
}
