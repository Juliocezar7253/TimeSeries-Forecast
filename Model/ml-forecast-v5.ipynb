{
 "cells": [
  {
   "cell_type": "code",
   "id": "initial_id",
   "metadata": {
    "collapsed": true,
    "ExecuteTime": {
     "end_time": "2025-05-01T22:16:34.168839Z",
     "start_time": "2025-05-01T22:16:32.558109Z"
    }
   },
   "source": [
    "import pandas as pd\n",
    "import numpy as np\n",
    "import optuna\n",
    "from rich.jupyter import display\n",
    "from sklearn.metrics import root_mean_squared_error\n",
    "from sklearn.model_selection import TimeSeriesSplit\n",
    "from xgboost import XGBRegressor"
   ],
   "outputs": [],
   "execution_count": 2
  },
  {
   "metadata": {},
   "cell_type": "markdown",
   "source": [
    "#### Xgboost (Ensemble) -> WRMSE = 0.0655\n",
    "- Leitura do dataset\n",
    "- Criação dos lags\n",
    "- métrica de controle geral"
   ],
   "id": "2ffad5f015811fc1"
  },
  {
   "metadata": {
    "ExecuteTime": {
     "end_time": "2025-05-01T22:16:34.699882Z",
     "start_time": "2025-05-01T22:16:34.192775Z"
    }
   },
   "cell_type": "code",
   "source": "df = pd.read_excel('../Input/DadosCompeticao.xlsx')",
   "id": "1e9f6b0975428561",
   "outputs": [],
   "execution_count": 3
  },
  {
   "metadata": {
    "ExecuteTime": {
     "end_time": "2025-05-01T22:16:34.913734Z",
     "start_time": "2025-05-01T22:16:34.906816Z"
    }
   },
   "cell_type": "code",
   "source": [
    "def create_lag_features(series, lags):\n",
    "    df = pd.DataFrame({'y': series})\n",
    "    for lag in range(1, lags + 1):\n",
    "        df[f'lag_{lag}'] = df['y'].shift(lag)\n",
    "    return df.dropna()"
   ],
   "id": "abf7af728958063a",
   "outputs": [],
   "execution_count": 4
  },
  {
   "metadata": {},
   "cell_type": "code",
   "outputs": [],
   "execution_count": 3,
   "source": "wrmse = lambda rmse: (rmse[:11] * (1 / 11)).sum()",
   "id": "dcbf4e1efdf248e7"
  },
  {
   "metadata": {},
   "cell_type": "markdown",
   "source": [
    "#### Otimização\n",
    "$$ min\\ score = \\sqrt{ \\sum \\dfrac{(y_{pred}-y)^2}{n}}$$\n",
    "- Função **objective** -> set(rmse)\n",
    "- Função **optimize** -> set(best_params to fit)"
   ],
   "id": "665a96a29c2dd0fb"
  },
  {
   "metadata": {
    "ExecuteTime": {
     "end_time": "2025-05-01T22:18:22.243381Z",
     "start_time": "2025-05-01T22:18:22.239369Z"
    }
   },
   "cell_type": "code",
   "source": [
    "forecast_window = 12\n",
    "past_window = df.shape[1] - 1"
   ],
   "id": "71dbea43bd598a72",
   "outputs": [],
   "execution_count": 10
  },
  {
   "metadata": {
    "ExecuteTime": {
     "end_time": "2025-04-21T02:21:40.518977Z",
     "start_time": "2025-04-21T02:21:40.513056Z"
    }
   },
   "cell_type": "code",
   "source": [
    "def objective(trial, series, forecast_window, past_window, n_splits=3):\n",
    "    data = create_lag_features(series, past_window)\n",
    "    X = data.drop('y', axis=1).values\n",
    "    y = data['y'].values\n",
    "\n",
    "    tscv = TimeSeriesSplit(n_splits=n_splits)\n",
    "    rmse_scores = []\n",
    "\n",
    "    for train_idx, test_idx in tscv.split(X):\n",
    "        X_train, X_val = X[train_idx], X[test_idx]\n",
    "        y_train, y_val = y[train_idx], y[test_idx]\n",
    "\n",
    "        model = XGBRegressor(\n",
    "            n_estimators=trial.suggest_int('n_estimators', 100, 500),\n",
    "            max_depth=trial.suggest_int('max_depth', 3, 10),\n",
    "            learning_rate=trial.suggest_float('learning_rate', 0.001, 0.3, log=True),\n",
    "            subsample=trial.suggest_float('subsample', 0.5, 1.0),\n",
    "            colsample_bytree=trial.suggest_float('colsample_bytree', 0.5, 1.0),\n",
    "            random_state=42\n",
    "        )\n",
    "        model.fit(X_train, y_train)\n",
    "        y_pred = model.predict(X_val)\n",
    "        rmse_scores.append(root_mean_squared_error(y_val, y_pred))\n",
    "\n",
    "    return np.mean(rmse_scores)"
   ],
   "id": "c28e71161ec05e3e",
   "outputs": [],
   "execution_count": 16
  },
  {
   "metadata": {
    "ExecuteTime": {
     "end_time": "2025-04-21T02:28:15.260300Z",
     "start_time": "2025-04-21T02:28:15.255579Z"
    }
   },
   "cell_type": "code",
   "source": [
    "def optimize(series, forecast_horizon=forecast_window, past_window=past_window):\n",
    "    study = optuna.create_study(direction='minimize')\n",
    "    study.optimize(lambda trial: objective(trial, series, forecast_horizon, past_window), n_trials=50) ## -> +combinações = -performance de treinamento\n",
    "    return study.best_params"
   ],
   "id": "890b0535ee0a104a",
   "outputs": [],
   "execution_count": 21
  },
  {
   "metadata": {},
   "cell_type": "markdown",
   "source": "#### Predict and Forecast",
   "id": "516379c0291e1601"
  },
  {
   "metadata": {
    "ExecuteTime": {
     "end_time": "2025-04-21T02:30:57.103688Z",
     "start_time": "2025-04-21T02:30:57.098184Z"
    }
   },
   "cell_type": "code",
   "source": [
    "def forecasting(series, best_params, forecast_horizon=12, past_window=12):\n",
    "    data = create_lag_features(series, past_window) #features: lags\n",
    "    X = data.drop('y', axis=1).values\n",
    "    y = data['y'].values\n",
    "\n",
    "    model = XGBRegressor(**best_params) ## -> Spread de parâmetros\n",
    "    model.fit(X, y)\n",
    "\n",
    "    forecast = []\n",
    "    last_window = list(series[-past_window:])\n",
    "    actuals = series[-forecast_horizon:]\n",
    "\n",
    "    for _ in range(forecast_horizon):\n",
    "        input_array = np.array(last_window[-past_window:]).reshape(1, -1)\n",
    "        next_value = model.predict(input_array)[0]\n",
    "        forecast.append(next_value)\n",
    "        last_window.append(next_value)\n",
    "\n",
    "    rmse = root_mean_squared_error(actuals, forecast)\n",
    "    return forecast, rmse"
   ],
   "id": "c20d7baaf40fe24b",
   "outputs": [],
   "execution_count": 26
  },
  {
   "metadata": {
    "ExecuteTime": {
     "end_time": "2025-04-21T02:31:18.089998Z",
     "start_time": "2025-04-21T02:31:18.085225Z"
    }
   },
   "cell_type": "code",
   "source": [
    "def run(df, forecast_horizon=forecast_window, past_window=past_window):\n",
    "    forecasts = {}\n",
    "    scores = {}\n",
    "\n",
    "    for col in df.columns:\n",
    "        print(f\"===== Série: {col} ====\")\n",
    "        series = df[col].dropna().values\n",
    "        best_params = optimize(series, forecast_horizon, past_window)\n",
    "        forecast, rmse = forecasting(series, best_params, forecast_horizon, past_window)\n",
    "        forecasts[col] = forecast\n",
    "        scores[col] = rmse\n",
    "\n",
    "    return forecasts, scores"
   ],
   "id": "280a63fc65b4a10c",
   "outputs": [],
   "execution_count": 29
  },
  {
   "metadata": {},
   "cell_type": "code",
   "source": "forecasts, scores = run(df)",
   "id": "bffd045cb3cd28ea",
   "outputs": [],
   "execution_count": null
  },
  {
   "metadata": {
    "ExecuteTime": {
     "end_time": "2025-04-21T02:35:39.284569Z",
     "start_time": "2025-04-21T02:35:39.279710Z"
    }
   },
   "cell_type": "code",
   "source": [
    "df_forecast = pd.DataFrame(forecasts)\n",
    "df_scores = pd.DataFrame.from_dict(scores, orient='index', columns=['RMSE'])"
   ],
   "id": "420224487f141a03",
   "outputs": [],
   "execution_count": 31
  },
  {
   "metadata": {
    "ExecuteTime": {
     "end_time": "2025-04-21T02:36:09.813158Z",
     "start_time": "2025-04-21T02:36:09.755965Z"
    }
   },
   "cell_type": "code",
   "source": [
    "df_forecast.to_excel('../Output/v5/previsoes_xgboost.xlsx', index=False)\n",
    "df_scores.to_excel('../Output/v5/scores_xgboost.xlsx', index=False)"
   ],
   "id": "3bdcf8f2cebc57e5",
   "outputs": [],
   "execution_count": 33
  },
  {
   "metadata": {
    "ExecuteTime": {
     "end_time": "2025-04-21T02:39:04.866207Z",
     "start_time": "2025-04-21T02:39:04.861629Z"
    }
   },
   "cell_type": "code",
   "source": "print(f'WRMSE: {wrmse(df_scores[\"RMSE\"]): .4f}')",
   "id": "b385adfe9072402b",
   "outputs": [
    {
     "name": "stdout",
     "output_type": "stream",
     "text": [
      "WRMSE:  0.0655\n"
     ]
    }
   ],
   "execution_count": 39
  }
 ],
 "metadata": {
  "kernelspec": {
   "display_name": "Python 3",
   "language": "python",
   "name": "python3"
  },
  "language_info": {
   "codemirror_mode": {
    "name": "ipython",
    "version": 2
   },
   "file_extension": ".py",
   "mimetype": "text/x-python",
   "name": "python",
   "nbconvert_exporter": "python",
   "pygments_lexer": "ipython2",
   "version": "2.7.6"
  }
 },
 "nbformat": 4,
 "nbformat_minor": 5
}
