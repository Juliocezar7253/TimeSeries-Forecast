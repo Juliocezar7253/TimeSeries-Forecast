{
 "cells": [
  {
   "cell_type": "code",
   "id": "initial_id",
   "metadata": {
    "collapsed": true,
    "ExecuteTime": {
     "end_time": "2025-04-20T22:34:11.946624Z",
     "start_time": "2025-04-20T22:34:11.942172Z"
    }
   },
   "source": [
    "import pandas as pd\n",
    "import numpy as np\n",
    "import optuna\n",
    "from tensorflow.keras.models import Sequential\n",
    "from tensorflow.keras.layers import LSTM, Dense, Dropout\n",
    "from tensorflow.keras.optimizers import Adam\n",
    "from skopt import BayesSearchCV\n",
    "from skopt.space import Real, Categorical, Integer\n",
    "from sklearn.preprocessing import MinMaxScaler\n",
    "from sklearn.metrics import mean_squared_error, root_mean_squared_error\n",
    "from sklearn.model_selection import TimeSeriesSplit"
   ],
   "outputs": [],
   "execution_count": 19
  },
  {
   "metadata": {
    "ExecuteTime": {
     "end_time": "2025-04-20T22:27:19.146071Z",
     "start_time": "2025-04-20T22:27:18.893419Z"
    }
   },
   "cell_type": "code",
   "source": "df = pd.read_excel('../Input/DadosCompeticao.xlsx')",
   "id": "1ed062fa9260ee78",
   "outputs": [],
   "execution_count": 2
  },
  {
   "metadata": {},
   "cell_type": "markdown",
   "source": "#### NN com LSTM (bayesian search) -> 3 camadas (WRMSE = 0.08913640587115884)",
   "id": "a1658ad048b886e1"
  },
  {
   "metadata": {
    "ExecuteTime": {
     "end_time": "2025-04-20T22:27:19.199416Z",
     "start_time": "2025-04-20T22:27:19.178057Z"
    }
   },
   "cell_type": "code",
   "source": [
    "forecast_window = 12\n",
    "past_window = df.shape[1] - 1"
   ],
   "id": "1b205e2e84250bda",
   "outputs": [],
   "execution_count": 4
  },
  {
   "metadata": {
    "ExecuteTime": {
     "end_time": "2025-04-20T22:27:19.216834Z",
     "start_time": "2025-04-20T22:27:19.212873Z"
    }
   },
   "cell_type": "code",
   "source": [
    "def data_preparation(series_scaled, forecast_window, past_window):\n",
    "    X, y = [], []\n",
    "    for i in range(len(series_scaled) - past_window - forecast_window + 1):\n",
    "        X.append(series_scaled[i:i + past_window])\n",
    "        y.append(series_scaled[i + past_window:i + past_window + forecast_window])\n",
    "    return np.array(X), np.array(y)"
   ],
   "id": "bd4c9bd9f986f944",
   "outputs": [],
   "execution_count": 5
  },
  {
   "metadata": {
    "ExecuteTime": {
     "end_time": "2025-04-20T22:34:24.362637Z",
     "start_time": "2025-04-20T22:34:24.357561Z"
    }
   },
   "cell_type": "code",
   "source": [
    "def build_model(past_window, forecast_window, neurons=100, dropout_rate=0.3, learning_rate=0.001, activation='relu'):\n",
    "    model = Sequential([\n",
    "        LSTM(neurons, activation=activation, return_sequences=True, input_shape=(past_window, 1)),\n",
    "        Dropout(dropout_rate),\n",
    "        LSTM(neurons, activation=activation, return_sequences=True),\n",
    "        Dropout(dropout_rate),\n",
    "        LSTM(neurons, activation=activation, return_sequences=False),\n",
    "        Dropout(dropout_rate),\n",
    "        Dense(neurons, activation=activation),\n",
    "        Dense(forecast_window)\n",
    "    ])\n",
    "\n",
    "    optimizer = Adam(learning_rate=learning_rate)\n",
    "    model.compile(optimizer=optimizer, loss='mean_squared_error')\n",
    "    return model"
   ],
   "id": "b9d05e1d5cd9ef1f",
   "outputs": [],
   "execution_count": 21
  },
  {
   "metadata": {
    "ExecuteTime": {
     "end_time": "2025-04-20T22:34:45.485890Z",
     "start_time": "2025-04-20T22:34:45.478174Z"
    }
   },
   "cell_type": "code",
   "source": [
    "def objective(trial, series, forecast_window, past_window, n_splits=3):\n",
    "    ## Set de possibilidades para busca bayesiana\n",
    "    neurons = trial.suggest_categorical(\"neurons\", [50, 100, 150, 300])\n",
    "    dropout_rate = trial.suggest_categorical(\"dropout_rate\", [0.1, 0.2, 0.3, 0.5])\n",
    "    learning_rate = trial.suggest_categorical(\"learning_rate\", [0.01, 0.001, 0.0005])\n",
    "    activation = trial.suggest_categorical(\"activation\", ['relu', 'tanh', 'sigmoid', 'softmax'])\n",
    "\n",
    "    scaler = MinMaxScaler()\n",
    "    series_scaled = scaler.fit_transform(series.reshape(-1, 1))\n",
    "\n",
    "    X, y = data_preparation(series_scaled, forecast_window, past_window)\n",
    "    X = X.reshape((X.shape[0], past_window, 1))\n",
    "\n",
    "    tscv = TimeSeriesSplit(n_splits=n_splits) ## -> seguir com split\n",
    "    rmse_scores = []\n",
    "\n",
    "    for train_idx, val_idx in tscv.split(X):\n",
    "        X_train, X_val = X[train_idx], X[val_idx]\n",
    "        y_train, y_val = y[train_idx], y[val_idx]\n",
    "\n",
    "        model = build_model(past_window, forecast_window, neurons, dropout_rate, learning_rate, activation)\n",
    "        model.fit(X_train, y_train, epochs=50, batch_size=32, verbose=0)\n",
    "\n",
    "        y_pred = model.predict(X_val)\n",
    "        y_pred_rescaled = scaler.inverse_transform(y_pred.reshape(-1, 1)).reshape(y_pred.shape)\n",
    "        y_val_rescaled = scaler.inverse_transform(y_val.reshape(-1, 1)).reshape(y_val.shape)\n",
    "\n",
    "        rmse = np.mean([\n",
    "            root_mean_squared_error(y_val_rescaled[:, i], y_pred_rescaled[:, i])\n",
    "            for i in range(forecast_window)\n",
    "        ])\n",
    "        rmse_scores.append(rmse)\n",
    "\n",
    "    return np.mean(rmse_scores) ## Função objetivo para minimizar RMSE"
   ],
   "id": "1a155ec2c348109e",
   "outputs": [],
   "execution_count": 23
  },
  {
   "metadata": {
    "ExecuteTime": {
     "end_time": "2025-04-20T22:40:38.040502Z",
     "start_time": "2025-04-20T22:40:38.035458Z"
    }
   },
   "cell_type": "code",
   "source": [
    "def NN_bayesian_search(forecast_window, past_window, n_trials=5):\n",
    "    best_params = {}\n",
    "\n",
    "    for col in df.columns:\n",
    "        print(f\"\\n parâmetros para: {col}\")\n",
    "        series = df[col].values\n",
    "\n",
    "        study = optuna.create_study(direction=\"minimize\") ## min objective s.a set_params\n",
    "        study.optimize(lambda trial: objective(trial, series, forecast_window, past_window), n_trials=n_trials)\n",
    "\n",
    "        best_params[col] = study.best_params\n",
    "\n",
    "    return best_params"
   ],
   "id": "b75c9c4360469f9b",
   "outputs": [],
   "execution_count": 26
  },
  {
   "metadata": {
    "ExecuteTime": {
     "end_time": "2025-04-20T23:06:09.724465Z",
     "start_time": "2025-04-20T22:40:39.985296Z"
    }
   },
   "cell_type": "code",
   "source": "params = NN_bayesian_search(forecast_window=forecast_window, past_window=past_window) # muito custoso (out of GPU)",
   "id": "50e4578729b88e51",
   "outputs": [
    {
     "name": "stderr",
     "output_type": "stream",
     "text": [
      "[I 2025-04-20 19:40:39,988] A new study created in memory with name: no-name-a23bcef1-6ef5-4298-80e5-b4916605a797\n"
     ]
    },
    {
     "name": "stdout",
     "output_type": "stream",
     "text": [
      "\n",
      "🔎 Buscando melhores parâmetros para: #1\n",
      "2/2 [==============================] - 0s 5ms/step\n",
      "2/2 [==============================] - 0s 5ms/step\n",
      "2/2 [==============================] - 0s 6ms/step\n"
     ]
    },
    {
     "name": "stderr",
     "output_type": "stream",
     "text": [
      "[I 2025-04-20 19:40:57,921] Trial 0 finished with value: 0.1676267202504347 and parameters: {'neurons': 50, 'dropout_rate': 0.2, 'learning_rate': 0.001, 'activation': 'relu'}. Best is trial 0 with value: 0.1676267202504347.\n"
     ]
    },
    {
     "name": "stdout",
     "output_type": "stream",
     "text": [
      "2/2 [==============================] - 1s 5ms/step\n",
      "2/2 [==============================] - 0s 6ms/step\n",
      "2/2 [==============================] - 0s 5ms/step\n"
     ]
    },
    {
     "name": "stderr",
     "output_type": "stream",
     "text": [
      "[I 2025-04-20 19:41:16,361] Trial 1 finished with value: 0.184324961622279 and parameters: {'neurons': 50, 'dropout_rate': 0.5, 'learning_rate': 0.01, 'activation': 'relu'}. Best is trial 0 with value: 0.1676267202504347.\n"
     ]
    },
    {
     "name": "stdout",
     "output_type": "stream",
     "text": [
      "2/2 [==============================] - 0s 13ms/step\n",
      "2/2 [==============================] - 0s 15ms/step\n",
      "2/2 [==============================] - 0s 14ms/step\n"
     ]
    },
    {
     "name": "stderr",
     "output_type": "stream",
     "text": [
      "[I 2025-04-20 19:41:52,091] Trial 2 finished with value: 0.19701460390758163 and parameters: {'neurons': 300, 'dropout_rate': 0.1, 'learning_rate': 0.01, 'activation': 'relu'}. Best is trial 0 with value: 0.1676267202504347.\n"
     ]
    },
    {
     "name": "stdout",
     "output_type": "stream",
     "text": [
      "2/2 [==============================] - 0s 12ms/step\n",
      "2/2 [==============================] - 0s 11ms/step\n",
      "2/2 [==============================] - 0s 11ms/step\n"
     ]
    },
    {
     "name": "stderr",
     "output_type": "stream",
     "text": [
      "[I 2025-04-20 19:42:17,657] Trial 3 finished with value: 0.2098687609989274 and parameters: {'neurons': 150, 'dropout_rate': 0.1, 'learning_rate': 0.01, 'activation': 'softmax'}. Best is trial 0 with value: 0.1676267202504347.\n"
     ]
    },
    {
     "name": "stdout",
     "output_type": "stream",
     "text": [
      "2/2 [==============================] - 0s 6ms/step\n",
      "2/2 [==============================] - 0s 6ms/step\n",
      "2/2 [==============================] - 0s 8ms/step\n"
     ]
    },
    {
     "name": "stderr",
     "output_type": "stream",
     "text": [
      "[I 2025-04-20 19:42:36,435] Trial 4 finished with value: 0.21915935668632605 and parameters: {'neurons': 100, 'dropout_rate': 0.5, 'learning_rate': 0.01, 'activation': 'sigmoid'}. Best is trial 0 with value: 0.1676267202504347.\n",
      "[I 2025-04-20 19:42:36,437] A new study created in memory with name: no-name-859a15f3-5e3b-4059-93cf-2477c9bafeec\n"
     ]
    },
    {
     "name": "stdout",
     "output_type": "stream",
     "text": [
      "\n",
      "🔎 Buscando melhores parâmetros para: #2\n",
      "2/2 [==============================] - 1s 7ms/step\n",
      "2/2 [==============================] - 1s 6ms/step\n",
      "2/2 [==============================] - 1s 6ms/step\n"
     ]
    },
    {
     "name": "stderr",
     "output_type": "stream",
     "text": [
      "[I 2025-04-20 19:43:00,949] Trial 0 finished with value: 0.15584718981069134 and parameters: {'neurons': 50, 'dropout_rate': 0.1, 'learning_rate': 0.0005, 'activation': 'tanh'}. Best is trial 0 with value: 0.15584718981069134.\n"
     ]
    },
    {
     "name": "stdout",
     "output_type": "stream",
     "text": [
      "2/2 [==============================] - 0s 5ms/step\n",
      "2/2 [==============================] - 0s 6ms/step\n",
      "2/2 [==============================] - 0s 6ms/step\n"
     ]
    },
    {
     "name": "stderr",
     "output_type": "stream",
     "text": [
      "[I 2025-04-20 19:43:18,858] Trial 1 finished with value: 0.2537051648450998 and parameters: {'neurons': 50, 'dropout_rate': 0.2, 'learning_rate': 0.01, 'activation': 'sigmoid'}. Best is trial 0 with value: 0.15584718981069134.\n"
     ]
    },
    {
     "name": "stdout",
     "output_type": "stream",
     "text": [
      "2/2 [==============================] - 0s 8ms/step\n",
      "2/2 [==============================] - 0s 9ms/step\n",
      "2/2 [==============================] - 0s 9ms/step\n"
     ]
    },
    {
     "name": "stderr",
     "output_type": "stream",
     "text": [
      "[I 2025-04-20 19:43:40,274] Trial 2 finished with value: 0.3592043970263052 and parameters: {'neurons': 50, 'dropout_rate': 0.5, 'learning_rate': 0.0005, 'activation': 'softmax'}. Best is trial 0 with value: 0.15584718981069134.\n"
     ]
    },
    {
     "name": "stdout",
     "output_type": "stream",
     "text": [
      "2/2 [==============================] - 1s 7ms/step\n",
      "2/2 [==============================] - 1s 7ms/step\n",
      "2/2 [==============================] - 1s 8ms/step\n"
     ]
    },
    {
     "name": "stderr",
     "output_type": "stream",
     "text": [
      "[I 2025-04-20 19:44:06,752] Trial 3 finished with value: 0.1635470573231291 and parameters: {'neurons': 100, 'dropout_rate': 0.5, 'learning_rate': 0.001, 'activation': 'tanh'}. Best is trial 0 with value: 0.15584718981069134.\n"
     ]
    },
    {
     "name": "stdout",
     "output_type": "stream",
     "text": [
      "2/2 [==============================] - 0s 15ms/step\n",
      "2/2 [==============================] - 0s 15ms/step\n",
      "2/2 [==============================] - 0s 14ms/step\n"
     ]
    },
    {
     "name": "stderr",
     "output_type": "stream",
     "text": [
      "[I 2025-04-20 19:44:42,960] Trial 4 finished with value: 0.2573438981918283 and parameters: {'neurons': 300, 'dropout_rate': 0.2, 'learning_rate': 0.001, 'activation': 'sigmoid'}. Best is trial 0 with value: 0.15584718981069134.\n",
      "[I 2025-04-20 19:44:42,961] A new study created in memory with name: no-name-914b91f3-059b-461a-ab33-f5be46ed8dcb\n"
     ]
    },
    {
     "name": "stdout",
     "output_type": "stream",
     "text": [
      "\n",
      "🔎 Buscando melhores parâmetros para: #3\n",
      "2/2 [==============================] - 0s 13ms/step\n",
      "2/2 [==============================] - 0s 12ms/step\n",
      "2/2 [==============================] - 0s 14ms/step\n"
     ]
    },
    {
     "name": "stderr",
     "output_type": "stream",
     "text": [
      "[I 2025-04-20 19:45:19,108] Trial 0 finished with value: 0.14288120317696515 and parameters: {'neurons': 300, 'dropout_rate': 0.5, 'learning_rate': 0.0005, 'activation': 'relu'}. Best is trial 0 with value: 0.14288120317696515.\n"
     ]
    },
    {
     "name": "stdout",
     "output_type": "stream",
     "text": [
      "2/2 [==============================] - 1s 9ms/step\n",
      "2/2 [==============================] - 1s 10ms/step\n",
      "2/2 [==============================] - 1s 10ms/step\n"
     ]
    },
    {
     "name": "stderr",
     "output_type": "stream",
     "text": [
      "[I 2025-04-20 19:45:53,472] Trial 1 finished with value: 0.12334397277774196 and parameters: {'neurons': 150, 'dropout_rate': 0.2, 'learning_rate': 0.001, 'activation': 'tanh'}. Best is trial 1 with value: 0.12334397277774196.\n"
     ]
    },
    {
     "name": "stdout",
     "output_type": "stream",
     "text": [
      "2/2 [==============================] - 0s 9ms/step\n",
      "2/2 [==============================] - 0s 9ms/step\n",
      "2/2 [==============================] - 1s 9ms/step\n"
     ]
    },
    {
     "name": "stderr",
     "output_type": "stream",
     "text": [
      "[I 2025-04-20 19:46:18,065] Trial 2 finished with value: 0.14234925037691315 and parameters: {'neurons': 150, 'dropout_rate': 0.1, 'learning_rate': 0.001, 'activation': 'relu'}. Best is trial 1 with value: 0.12334397277774196.\n"
     ]
    },
    {
     "name": "stdout",
     "output_type": "stream",
     "text": [
      "2/2 [==============================] - 1s 7ms/step\n",
      "2/2 [==============================] - 1s 6ms/step\n",
      "2/2 [==============================] - 1s 6ms/step\n"
     ]
    },
    {
     "name": "stderr",
     "output_type": "stream",
     "text": [
      "[I 2025-04-20 19:46:45,298] Trial 3 finished with value: 0.15682291224806988 and parameters: {'neurons': 50, 'dropout_rate': 0.5, 'learning_rate': 0.0005, 'activation': 'tanh'}. Best is trial 1 with value: 0.12334397277774196.\n"
     ]
    },
    {
     "name": "stdout",
     "output_type": "stream",
     "text": [
      "2/2 [==============================] - 0s 5ms/step\n",
      "2/2 [==============================] - 0s 5ms/step\n",
      "2/2 [==============================] - 0s 6ms/step\n"
     ]
    },
    {
     "name": "stderr",
     "output_type": "stream",
     "text": [
      "[I 2025-04-20 19:47:03,062] Trial 4 finished with value: 0.15411909135088064 and parameters: {'neurons': 50, 'dropout_rate': 0.2, 'learning_rate': 0.001, 'activation': 'relu'}. Best is trial 1 with value: 0.12334397277774196.\n",
      "[I 2025-04-20 19:47:03,063] A new study created in memory with name: no-name-99356c4c-0939-4f83-921b-22c14c0abd8d\n"
     ]
    },
    {
     "name": "stdout",
     "output_type": "stream",
     "text": [
      "\n",
      "🔎 Buscando melhores parâmetros para: #4\n",
      "2/2 [==============================] - 0s 11ms/step\n",
      "2/2 [==============================] - 0s 10ms/step\n",
      "2/2 [==============================] - 0s 10ms/step\n"
     ]
    },
    {
     "name": "stderr",
     "output_type": "stream",
     "text": [
      "[I 2025-04-20 19:47:26,706] Trial 0 finished with value: 0.28714784914932423 and parameters: {'neurons': 150, 'dropout_rate': 0.3, 'learning_rate': 0.001, 'activation': 'softmax'}. Best is trial 0 with value: 0.28714784914932423.\n"
     ]
    },
    {
     "name": "stdout",
     "output_type": "stream",
     "text": [
      "2/2 [==============================] - 0s 8ms/step\n",
      "2/2 [==============================] - 0s 8ms/step\n",
      "2/2 [==============================] - 0s 8ms/step\n"
     ]
    },
    {
     "name": "stderr",
     "output_type": "stream",
     "text": [
      "[I 2025-04-20 19:47:47,423] Trial 1 finished with value: 0.28560586694667084 and parameters: {'neurons': 150, 'dropout_rate': 0.3, 'learning_rate': 0.0005, 'activation': 'sigmoid'}. Best is trial 1 with value: 0.28560586694667084.\n"
     ]
    },
    {
     "name": "stdout",
     "output_type": "stream",
     "text": [
      "2/2 [==============================] - 1s 6ms/step\n",
      "2/2 [==============================] - 1s 6ms/step\n",
      "2/2 [==============================] - 1s 5ms/step\n"
     ]
    },
    {
     "name": "stderr",
     "output_type": "stream",
     "text": [
      "[I 2025-04-20 19:48:13,900] Trial 2 finished with value: 0.048660066618744745 and parameters: {'neurons': 50, 'dropout_rate': 0.3, 'learning_rate': 0.0005, 'activation': 'tanh'}. Best is trial 2 with value: 0.048660066618744745.\n"
     ]
    },
    {
     "name": "stdout",
     "output_type": "stream",
     "text": [
      "2/2 [==============================] - 0s 11ms/step\n",
      "2/2 [==============================] - 0s 11ms/step\n",
      "2/2 [==============================] - 0s 11ms/step\n"
     ]
    },
    {
     "name": "stderr",
     "output_type": "stream",
     "text": [
      "[I 2025-04-20 19:48:36,384] Trial 3 finished with value: 0.31886509253077794 and parameters: {'neurons': 150, 'dropout_rate': 0.5, 'learning_rate': 0.0005, 'activation': 'softmax'}. Best is trial 2 with value: 0.048660066618744745.\n"
     ]
    },
    {
     "name": "stdout",
     "output_type": "stream",
     "text": [
      "2/2 [==============================] - 0s 6ms/step\n",
      "2/2 [==============================] - 0s 6ms/step\n",
      "2/2 [==============================] - 0s 6ms/step\n"
     ]
    },
    {
     "name": "stderr",
     "output_type": "stream",
     "text": [
      "[I 2025-04-20 19:48:54,431] Trial 4 finished with value: 0.041706980262304356 and parameters: {'neurons': 100, 'dropout_rate': 0.2, 'learning_rate': 0.001, 'activation': 'relu'}. Best is trial 4 with value: 0.041706980262304356.\n",
      "[I 2025-04-20 19:48:54,432] A new study created in memory with name: no-name-56bb6390-5cea-4825-a3b7-931df4feefbe\n"
     ]
    },
    {
     "name": "stdout",
     "output_type": "stream",
     "text": [
      "\n",
      "🔎 Buscando melhores parâmetros para: #5\n",
      "2/2 [==============================] - 0s 9ms/step\n",
      "2/2 [==============================] - 0s 9ms/step\n",
      "2/2 [==============================] - 0s 8ms/step\n"
     ]
    },
    {
     "name": "stderr",
     "output_type": "stream",
     "text": [
      "[I 2025-04-20 19:49:14,670] Trial 0 finished with value: 0.2255121444229331 and parameters: {'neurons': 150, 'dropout_rate': 0.3, 'learning_rate': 0.0005, 'activation': 'sigmoid'}. Best is trial 0 with value: 0.2255121444229331.\n"
     ]
    },
    {
     "name": "stdout",
     "output_type": "stream",
     "text": [
      "2/2 [==============================] - 1s 6ms/step\n",
      "2/2 [==============================] - 1s 5ms/step\n",
      "2/2 [==============================] - 1s 6ms/step\n"
     ]
    },
    {
     "name": "stderr",
     "output_type": "stream",
     "text": [
      "[I 2025-04-20 19:49:38,411] Trial 1 finished with value: 0.13639552386664658 and parameters: {'neurons': 50, 'dropout_rate': 0.5, 'learning_rate': 0.0005, 'activation': 'tanh'}. Best is trial 1 with value: 0.13639552386664658.\n"
     ]
    },
    {
     "name": "stdout",
     "output_type": "stream",
     "text": [
      "2/2 [==============================] - 0s 11ms/step\n",
      "2/2 [==============================] - 0s 10ms/step\n",
      "2/2 [==============================] - 0s 12ms/step\n"
     ]
    },
    {
     "name": "stderr",
     "output_type": "stream",
     "text": [
      "[I 2025-04-20 19:50:00,938] Trial 2 finished with value: 0.176752721133028 and parameters: {'neurons': 150, 'dropout_rate': 0.1, 'learning_rate': 0.001, 'activation': 'softmax'}. Best is trial 1 with value: 0.13639552386664658.\n"
     ]
    },
    {
     "name": "stdout",
     "output_type": "stream",
     "text": [
      "2/2 [==============================] - 0s 13ms/step\n",
      "2/2 [==============================] - 0s 13ms/step\n",
      "2/2 [==============================] - 0s 13ms/step\n"
     ]
    },
    {
     "name": "stderr",
     "output_type": "stream",
     "text": [
      "[I 2025-04-20 19:50:36,510] Trial 3 finished with value: 0.15319113275692334 and parameters: {'neurons': 300, 'dropout_rate': 0.5, 'learning_rate': 0.01, 'activation': 'relu'}. Best is trial 1 with value: 0.13639552386664658.\n"
     ]
    },
    {
     "name": "stdout",
     "output_type": "stream",
     "text": [
      "2/2 [==============================] - 0s 11ms/step\n",
      "2/2 [==============================] - 0s 11ms/step\n",
      "2/2 [==============================] - 0s 11ms/step\n"
     ]
    },
    {
     "name": "stderr",
     "output_type": "stream",
     "text": [
      "[I 2025-04-20 19:51:01,135] Trial 4 finished with value: 0.22334617144867072 and parameters: {'neurons': 100, 'dropout_rate': 0.3, 'learning_rate': 0.01, 'activation': 'softmax'}. Best is trial 1 with value: 0.13639552386664658.\n",
      "[I 2025-04-20 19:51:01,137] A new study created in memory with name: no-name-0c7e59bd-8b7b-4208-9e4b-e1544a5e5056\n"
     ]
    },
    {
     "name": "stdout",
     "output_type": "stream",
     "text": [
      "\n",
      "🔎 Buscando melhores parâmetros para: #6\n",
      "2/2 [==============================] - 0s 6ms/step\n",
      "2/2 [==============================] - 0s 6ms/step\n",
      "2/2 [==============================] - 0s 5ms/step\n"
     ]
    },
    {
     "name": "stderr",
     "output_type": "stream",
     "text": [
      "[I 2025-04-20 19:51:18,923] Trial 0 finished with value: 0.2796577505858718 and parameters: {'neurons': 50, 'dropout_rate': 0.3, 'learning_rate': 0.01, 'activation': 'sigmoid'}. Best is trial 0 with value: 0.2796577505858718.\n"
     ]
    },
    {
     "name": "stdout",
     "output_type": "stream",
     "text": [
      "2/2 [==============================] - 0s 7ms/step\n",
      "2/2 [==============================] - 0s 7ms/step\n",
      "2/2 [==============================] - 0s 7ms/step\n"
     ]
    },
    {
     "name": "stderr",
     "output_type": "stream",
     "text": [
      "[I 2025-04-20 19:51:38,531] Trial 1 finished with value: 0.19212090323989608 and parameters: {'neurons': 100, 'dropout_rate': 0.5, 'learning_rate': 0.001, 'activation': 'relu'}. Best is trial 1 with value: 0.19212090323989608.\n"
     ]
    },
    {
     "name": "stdout",
     "output_type": "stream",
     "text": [
      "2/2 [==============================] - 0s 8ms/step\n",
      "2/2 [==============================] - 0s 8ms/step\n",
      "2/2 [==============================] - 0s 9ms/step\n"
     ]
    },
    {
     "name": "stderr",
     "output_type": "stream",
     "text": [
      "[I 2025-04-20 19:52:00,092] Trial 2 finished with value: 0.2804487918520762 and parameters: {'neurons': 150, 'dropout_rate': 0.5, 'learning_rate': 0.01, 'activation': 'relu'}. Best is trial 1 with value: 0.19212090323989608.\n"
     ]
    },
    {
     "name": "stdout",
     "output_type": "stream",
     "text": [
      "2/2 [==============================] - 0s 9ms/step\n",
      "2/2 [==============================] - 0s 10ms/step\n",
      "2/2 [==============================] - 0s 11ms/step\n"
     ]
    },
    {
     "name": "stderr",
     "output_type": "stream",
     "text": [
      "[I 2025-04-20 19:52:22,780] Trial 3 finished with value: 0.2613885775301879 and parameters: {'neurons': 150, 'dropout_rate': 0.2, 'learning_rate': 0.01, 'activation': 'sigmoid'}. Best is trial 1 with value: 0.19212090323989608.\n"
     ]
    },
    {
     "name": "stdout",
     "output_type": "stream",
     "text": [
      "2/2 [==============================] - 0s 8ms/step\n",
      "2/2 [==============================] - 0s 9ms/step\n",
      "2/2 [==============================] - 0s 8ms/step\n"
     ]
    },
    {
     "name": "stderr",
     "output_type": "stream",
     "text": [
      "[I 2025-04-20 19:52:43,258] Trial 4 finished with value: 0.1880067259806605 and parameters: {'neurons': 100, 'dropout_rate': 0.2, 'learning_rate': 0.001, 'activation': 'relu'}. Best is trial 4 with value: 0.1880067259806605.\n",
      "[I 2025-04-20 19:52:43,259] A new study created in memory with name: no-name-2638c8c5-8291-4aec-acc6-bb66834bc5bf\n"
     ]
    },
    {
     "name": "stdout",
     "output_type": "stream",
     "text": [
      "\n",
      "🔎 Buscando melhores parâmetros para: #7\n",
      "2/2 [==============================] - 0s 6ms/step\n",
      "2/2 [==============================] - 0s 6ms/step\n",
      "2/2 [==============================] - 0s 6ms/step\n"
     ]
    },
    {
     "name": "stderr",
     "output_type": "stream",
     "text": [
      "[I 2025-04-20 19:53:01,953] Trial 0 finished with value: 0.09435603721585785 and parameters: {'neurons': 50, 'dropout_rate': 0.3, 'learning_rate': 0.0005, 'activation': 'relu'}. Best is trial 0 with value: 0.09435603721585785.\n"
     ]
    },
    {
     "name": "stdout",
     "output_type": "stream",
     "text": [
      "2/2 [==============================] - 1s 18ms/step\n",
      "2/2 [==============================] - 1s 19ms/step\n",
      "2/2 [==============================] - 1s 18ms/step\n"
     ]
    },
    {
     "name": "stderr",
     "output_type": "stream",
     "text": [
      "[I 2025-04-20 19:53:49,420] Trial 1 finished with value: 0.09275916743019962 and parameters: {'neurons': 300, 'dropout_rate': 0.3, 'learning_rate': 0.0005, 'activation': 'tanh'}. Best is trial 1 with value: 0.09275916743019962.\n"
     ]
    },
    {
     "name": "stdout",
     "output_type": "stream",
     "text": [
      "2/2 [==============================] - 0s 11ms/step\n",
      "2/2 [==============================] - 0s 11ms/step\n",
      "2/2 [==============================] - 0s 12ms/step\n"
     ]
    },
    {
     "name": "stderr",
     "output_type": "stream",
     "text": [
      "[I 2025-04-20 19:54:16,203] Trial 2 finished with value: 0.1810974034511724 and parameters: {'neurons': 100, 'dropout_rate': 0.2, 'learning_rate': 0.0005, 'activation': 'softmax'}. Best is trial 1 with value: 0.09275916743019962.\n"
     ]
    },
    {
     "name": "stdout",
     "output_type": "stream",
     "text": [
      "2/2 [==============================] - 0s 12ms/step\n",
      "2/2 [==============================] - 0s 11ms/step\n",
      "2/2 [==============================] - 0s 12ms/step\n"
     ]
    },
    {
     "name": "stderr",
     "output_type": "stream",
     "text": [
      "[I 2025-04-20 19:54:40,689] Trial 3 finished with value: 0.09608743702487806 and parameters: {'neurons': 150, 'dropout_rate': 0.2, 'learning_rate': 0.01, 'activation': 'sigmoid'}. Best is trial 1 with value: 0.09275916743019962.\n"
     ]
    },
    {
     "name": "stdout",
     "output_type": "stream",
     "text": [
      "2/2 [==============================] - 1s 20ms/step\n",
      "2/2 [==============================] - 1s 20ms/step\n",
      "2/2 [==============================] - 1s 19ms/step\n"
     ]
    },
    {
     "name": "stderr",
     "output_type": "stream",
     "text": [
      "[I 2025-04-20 19:55:31,218] Trial 4 finished with value: 0.09266440566048602 and parameters: {'neurons': 300, 'dropout_rate': 0.5, 'learning_rate': 0.001, 'activation': 'tanh'}. Best is trial 4 with value: 0.09266440566048602.\n",
      "[I 2025-04-20 19:55:31,219] A new study created in memory with name: no-name-e3840351-c222-4409-9bba-f4ea19d954c5\n"
     ]
    },
    {
     "name": "stdout",
     "output_type": "stream",
     "text": [
      "\n",
      "🔎 Buscando melhores parâmetros para: #8\n",
      "2/2 [==============================] - 1s 10ms/step\n",
      "2/2 [==============================] - 1s 9ms/step\n",
      "2/2 [==============================] - 1s 10ms/step\n"
     ]
    },
    {
     "name": "stderr",
     "output_type": "stream",
     "text": [
      "[I 2025-04-20 19:55:59,676] Trial 0 finished with value: 0.11224524303862814 and parameters: {'neurons': 100, 'dropout_rate': 0.1, 'learning_rate': 0.01, 'activation': 'tanh'}. Best is trial 0 with value: 0.11224524303862814.\n"
     ]
    },
    {
     "name": "stdout",
     "output_type": "stream",
     "text": [
      "2/2 [==============================] - 0s 6ms/step\n",
      "2/2 [==============================] - 0s 6ms/step\n",
      "2/2 [==============================] - 0s 7ms/step\n"
     ]
    },
    {
     "name": "stderr",
     "output_type": "stream",
     "text": [
      "[I 2025-04-20 19:56:18,969] Trial 1 finished with value: 0.14148662859561092 and parameters: {'neurons': 50, 'dropout_rate': 0.5, 'learning_rate': 0.01, 'activation': 'relu'}. Best is trial 0 with value: 0.11224524303862814.\n"
     ]
    },
    {
     "name": "stdout",
     "output_type": "stream",
     "text": [
      "2/2 [==============================] - 0s 22ms/step\n",
      "2/2 [==============================] - 0s 21ms/step\n",
      "2/2 [==============================] - 0s 22ms/step\n"
     ]
    },
    {
     "name": "stderr",
     "output_type": "stream",
     "text": [
      "[I 2025-04-20 19:57:05,971] Trial 2 finished with value: 0.3749334473825155 and parameters: {'neurons': 300, 'dropout_rate': 0.2, 'learning_rate': 0.0005, 'activation': 'softmax'}. Best is trial 0 with value: 0.11224524303862814.\n"
     ]
    },
    {
     "name": "stdout",
     "output_type": "stream",
     "text": [
      "2/2 [==============================] - 0s 21ms/step\n",
      "2/2 [==============================] - 0s 22ms/step\n",
      "2/2 [==============================] - 0s 21ms/step\n"
     ]
    },
    {
     "name": "stderr",
     "output_type": "stream",
     "text": [
      "[I 2025-04-20 19:57:53,429] Trial 3 finished with value: 0.37631596044945814 and parameters: {'neurons': 300, 'dropout_rate': 0.3, 'learning_rate': 0.0005, 'activation': 'softmax'}. Best is trial 0 with value: 0.11224524303862814.\n"
     ]
    },
    {
     "name": "stdout",
     "output_type": "stream",
     "text": [
      "2/2 [==============================] - 0s 22ms/step\n",
      "2/2 [==============================] - 0s 22ms/step\n",
      "2/2 [==============================] - 0s 22ms/step\n"
     ]
    },
    {
     "name": "stderr",
     "output_type": "stream",
     "text": [
      "[I 2025-04-20 19:58:41,781] Trial 4 finished with value: 0.2713697696567095 and parameters: {'neurons': 300, 'dropout_rate': 0.3, 'learning_rate': 0.001, 'activation': 'softmax'}. Best is trial 0 with value: 0.11224524303862814.\n",
      "[I 2025-04-20 19:58:41,782] A new study created in memory with name: no-name-0972691f-55f1-4f07-98e1-3ba45cb7e884\n"
     ]
    },
    {
     "name": "stdout",
     "output_type": "stream",
     "text": [
      "\n",
      "🔎 Buscando melhores parâmetros para: #9\n",
      "2/2 [==============================] - 0s 12ms/step\n",
      "2/2 [==============================] - 0s 12ms/step\n",
      "2/2 [==============================] - 0s 11ms/step\n"
     ]
    },
    {
     "name": "stderr",
     "output_type": "stream",
     "text": [
      "[I 2025-04-20 19:59:05,742] Trial 0 finished with value: 0.399845119370555 and parameters: {'neurons': 100, 'dropout_rate': 0.5, 'learning_rate': 0.0005, 'activation': 'softmax'}. Best is trial 0 with value: 0.399845119370555.\n"
     ]
    },
    {
     "name": "stdout",
     "output_type": "stream",
     "text": [
      "2/2 [==============================] - 0s 8ms/step\n",
      "2/2 [==============================] - 0s 9ms/step\n",
      "2/2 [==============================] - 0s 8ms/step\n"
     ]
    },
    {
     "name": "stderr",
     "output_type": "stream",
     "text": [
      "[I 2025-04-20 19:59:27,269] Trial 1 finished with value: 0.2238585524242951 and parameters: {'neurons': 100, 'dropout_rate': 0.3, 'learning_rate': 0.0005, 'activation': 'relu'}. Best is trial 1 with value: 0.2238585524242951.\n"
     ]
    },
    {
     "name": "stdout",
     "output_type": "stream",
     "text": [
      "2/2 [==============================] - 0s 9ms/step\n",
      "2/2 [==============================] - 0s 9ms/step\n",
      "2/2 [==============================] - 0s 10ms/step\n"
     ]
    },
    {
     "name": "stderr",
     "output_type": "stream",
     "text": [
      "[I 2025-04-20 19:59:54,158] Trial 2 finished with value: 0.1596318957890321 and parameters: {'neurons': 100, 'dropout_rate': 0.5, 'learning_rate': 0.001, 'activation': 'relu'}. Best is trial 2 with value: 0.1596318957890321.\n"
     ]
    },
    {
     "name": "stdout",
     "output_type": "stream",
     "text": [
      "2/2 [==============================] - 1s 15ms/step\n",
      "2/2 [==============================] - 1s 15ms/step\n",
      "2/2 [==============================] - 1s 14ms/step\n"
     ]
    },
    {
     "name": "stderr",
     "output_type": "stream",
     "text": [
      "[I 2025-04-20 20:00:27,696] Trial 3 finished with value: 0.1334027593141546 and parameters: {'neurons': 150, 'dropout_rate': 0.5, 'learning_rate': 0.01, 'activation': 'tanh'}. Best is trial 3 with value: 0.1334027593141546.\n"
     ]
    },
    {
     "name": "stdout",
     "output_type": "stream",
     "text": [
      "2/2 [==============================] - 0s 13ms/step\n",
      "2/2 [==============================] - 0s 12ms/step\n",
      "2/2 [==============================] - 0s 13ms/step\n"
     ]
    },
    {
     "name": "stderr",
     "output_type": "stream",
     "text": [
      "[I 2025-04-20 20:00:53,385] Trial 4 finished with value: 0.22160868350756394 and parameters: {'neurons': 150, 'dropout_rate': 0.1, 'learning_rate': 0.01, 'activation': 'sigmoid'}. Best is trial 3 with value: 0.1334027593141546.\n",
      "[I 2025-04-20 20:00:53,387] A new study created in memory with name: no-name-6e26fdaa-011a-47a6-aafd-85cda51df13c\n"
     ]
    },
    {
     "name": "stdout",
     "output_type": "stream",
     "text": [
      "\n",
      "🔎 Buscando melhores parâmetros para: #10\n",
      "2/2 [==============================] - 0s 9ms/step\n",
      "2/2 [==============================] - 0s 9ms/step\n",
      "2/2 [==============================] - 0s 9ms/step\n"
     ]
    },
    {
     "name": "stderr",
     "output_type": "stream",
     "text": [
      "[I 2025-04-20 20:01:16,030] Trial 0 finished with value: 0.20493869978734178 and parameters: {'neurons': 100, 'dropout_rate': 0.2, 'learning_rate': 0.0005, 'activation': 'relu'}. Best is trial 0 with value: 0.20493869978734178.\n"
     ]
    },
    {
     "name": "stdout",
     "output_type": "stream",
     "text": [
      "2/2 [==============================] - 0s 12ms/step\n",
      "2/2 [==============================] - 0s 12ms/step\n",
      "2/2 [==============================] - 0s 13ms/step\n"
     ]
    },
    {
     "name": "stderr",
     "output_type": "stream",
     "text": [
      "[I 2025-04-20 20:01:40,949] Trial 1 finished with value: 0.39968462250735476 and parameters: {'neurons': 100, 'dropout_rate': 0.5, 'learning_rate': 0.0005, 'activation': 'softmax'}. Best is trial 0 with value: 0.20493869978734178.\n"
     ]
    },
    {
     "name": "stdout",
     "output_type": "stream",
     "text": [
      "2/2 [==============================] - 0s 16ms/step\n",
      "2/2 [==============================] - 0s 15ms/step\n",
      "2/2 [==============================] - 0s 15ms/step\n"
     ]
    },
    {
     "name": "stderr",
     "output_type": "stream",
     "text": [
      "[I 2025-04-20 20:02:09,484] Trial 2 finished with value: 0.4021842685829353 and parameters: {'neurons': 150, 'dropout_rate': 0.3, 'learning_rate': 0.0005, 'activation': 'softmax'}. Best is trial 0 with value: 0.20493869978734178.\n"
     ]
    },
    {
     "name": "stdout",
     "output_type": "stream",
     "text": [
      "2/2 [==============================] - 0s 7ms/step\n",
      "2/2 [==============================] - 0s 7ms/step\n",
      "2/2 [==============================] - 0s 7ms/step\n"
     ]
    },
    {
     "name": "stderr",
     "output_type": "stream",
     "text": [
      "[I 2025-04-20 20:02:29,980] Trial 3 finished with value: 0.21069334850731447 and parameters: {'neurons': 50, 'dropout_rate': 0.5, 'learning_rate': 0.001, 'activation': 'relu'}. Best is trial 0 with value: 0.20493869978734178.\n"
     ]
    },
    {
     "name": "stdout",
     "output_type": "stream",
     "text": [
      "2/2 [==============================] - 1s 13ms/step\n",
      "2/2 [==============================] - 1s 15ms/step\n",
      "2/2 [==============================] - 1s 13ms/step\n"
     ]
    },
    {
     "name": "stderr",
     "output_type": "stream",
     "text": [
      "[I 2025-04-20 20:03:02,300] Trial 4 finished with value: 0.20436449838705942 and parameters: {'neurons': 150, 'dropout_rate': 0.5, 'learning_rate': 0.01, 'activation': 'tanh'}. Best is trial 4 with value: 0.20436449838705942.\n",
      "[I 2025-04-20 20:03:02,301] A new study created in memory with name: no-name-1be317e5-728e-42f0-be74-a678d1b25e0e\n"
     ]
    },
    {
     "name": "stdout",
     "output_type": "stream",
     "text": [
      "\n",
      "🔎 Buscando melhores parâmetros para: #11\n",
      "2/2 [==============================] - 0s 9ms/step\n",
      "2/2 [==============================] - 0s 9ms/step\n",
      "2/2 [==============================] - 0s 9ms/step\n"
     ]
    },
    {
     "name": "stderr",
     "output_type": "stream",
     "text": [
      "[I 2025-04-20 20:03:24,397] Trial 0 finished with value: 0.14105968389925203 and parameters: {'neurons': 100, 'dropout_rate': 0.3, 'learning_rate': 0.01, 'activation': 'relu'}. Best is trial 0 with value: 0.14105968389925203.\n"
     ]
    },
    {
     "name": "stdout",
     "output_type": "stream",
     "text": [
      "2/2 [==============================] - 1s 10ms/step\n",
      "2/2 [==============================] - 1s 10ms/step\n",
      "2/2 [==============================] - 1s 10ms/step\n"
     ]
    },
    {
     "name": "stderr",
     "output_type": "stream",
     "text": [
      "[I 2025-04-20 20:03:54,073] Trial 1 finished with value: 0.13732333445872338 and parameters: {'neurons': 100, 'dropout_rate': 0.3, 'learning_rate': 0.0005, 'activation': 'tanh'}. Best is trial 1 with value: 0.13732333445872338.\n"
     ]
    },
    {
     "name": "stdout",
     "output_type": "stream",
     "text": [
      "2/2 [==============================] - 0s 23ms/step\n",
      "2/2 [==============================] - 0s 23ms/step\n",
      "2/2 [==============================] - 0s 23ms/step\n"
     ]
    },
    {
     "name": "stderr",
     "output_type": "stream",
     "text": [
      "[I 2025-04-20 20:04:43,099] Trial 2 finished with value: 0.4783894976552309 and parameters: {'neurons': 300, 'dropout_rate': 0.2, 'learning_rate': 0.01, 'activation': 'softmax'}. Best is trial 1 with value: 0.13732333445872338.\n"
     ]
    },
    {
     "name": "stdout",
     "output_type": "stream",
     "text": [
      "2/2 [==============================] - 1s 22ms/step\n",
      "2/2 [==============================] - 1s 26ms/step\n",
      "2/2 [==============================] - 1s 25ms/step\n"
     ]
    },
    {
     "name": "stderr",
     "output_type": "stream",
     "text": [
      "[I 2025-04-20 20:05:46,202] Trial 3 finished with value: 0.11258067383793235 and parameters: {'neurons': 300, 'dropout_rate': 0.5, 'learning_rate': 0.01, 'activation': 'tanh'}. Best is trial 3 with value: 0.11258067383793235.\n"
     ]
    },
    {
     "name": "stdout",
     "output_type": "stream",
     "text": [
      "2/2 [==============================] - 0s 11ms/step\n",
      "2/2 [==============================] - 0s 10ms/step\n",
      "2/2 [==============================] - 0s 10ms/step\n"
     ]
    },
    {
     "name": "stderr",
     "output_type": "stream",
     "text": [
      "[I 2025-04-20 20:06:09,721] Trial 4 finished with value: 0.6980553759722788 and parameters: {'neurons': 50, 'dropout_rate': 0.2, 'learning_rate': 0.0005, 'activation': 'softmax'}. Best is trial 3 with value: 0.11258067383793235.\n"
     ]
    }
   ],
   "execution_count": 27
  },
  {
   "metadata": {
    "ExecuteTime": {
     "end_time": "2025-04-20T23:21:10.448321Z",
     "start_time": "2025-04-20T23:21:10.440290Z"
    }
   },
   "cell_type": "code",
   "source": [
    "def NN(best_params, forecast_window, past_window):\n",
    "    scores = {}\n",
    "    forecasts = {}\n",
    "\n",
    "    for col in df.columns:\n",
    "        print(f\"\\n ==== Treinando {col} ====\")\n",
    "\n",
    "        series = df[col].values.reshape(-1, 1)\n",
    "        scaler = MinMaxScaler()\n",
    "        series_scaled = scaler.fit_transform(series)\n",
    "\n",
    "        X, y = data_preparation(series_scaled, forecast_window, past_window)\n",
    "        X = X.reshape((X.shape[0], past_window, 1))\n",
    "\n",
    "        params = best_params[col]\n",
    "        model = build_model(\n",
    "            past_window=past_window,\n",
    "            forecast_window=forecast_window,\n",
    "            neurons=params['neurons'],\n",
    "            dropout_rate=params['dropout_rate'],\n",
    "            learning_rate=params['learning_rate'],\n",
    "            activation=params['activation']\n",
    "        )\n",
    "\n",
    "        model.fit(X, y, epochs=100, batch_size=32, verbose=0) # Preservar params de fit\n",
    "\n",
    "        # Previsão\n",
    "        last_input = series_scaled[-past_window:].reshape((1, past_window, 1))\n",
    "        forecast = model.predict(last_input)\n",
    "        forecast_rescaled = scaler.inverse_transform(forecast.reshape(-1, 1)).flatten()\n",
    "\n",
    "        forecasts[col] = forecast_rescaled\n",
    "\n",
    "        y_pred = model.predict(X)\n",
    "        y_pred_rescaled = scaler.inverse_transform(y_pred.reshape(-1, 1)).reshape(y_pred.shape)\n",
    "        y_rescaled = scaler.inverse_transform(y.reshape(-1, 1)).reshape(y.shape)\n",
    "        rmse = np.mean([\n",
    "            root_mean_squared_error(y_rescaled[:, i], y_pred_rescaled[:, i])\n",
    "            for i in range(forecast_window)\n",
    "        ])\n",
    "        scores[col] = rmse\n",
    "\n",
    "    return forecasts, scores"
   ],
   "id": "74c2e863f7e887ae",
   "outputs": [],
   "execution_count": 30
  },
  {
   "metadata": {
    "ExecuteTime": {
     "end_time": "2025-04-20T23:25:48.691256Z",
     "start_time": "2025-04-20T23:21:11.519268Z"
    }
   },
   "cell_type": "code",
   "source": "forecast_set, score_set = NN(best_params=params, forecast_window=forecast_window, past_window=past_window)",
   "id": "c7c4ff3963c34574",
   "outputs": [
    {
     "name": "stdout",
     "output_type": "stream",
     "text": [
      "\n",
      "📈 Gerando previsão para: #1\n",
      "1/1 [==============================] - 1s 541ms/step\n",
      "8/8 [==============================] - 0s 6ms/step\n",
      "\n",
      "📈 Gerando previsão para: #2\n",
      "1/1 [==============================] - 1s 953ms/step\n",
      "8/8 [==============================] - 0s 6ms/step\n",
      "\n",
      "📈 Gerando previsão para: #3\n",
      "1/1 [==============================] - 1s 974ms/step\n",
      "8/8 [==============================] - 0s 11ms/step\n",
      "\n",
      "📈 Gerando previsão para: #4\n",
      "1/1 [==============================] - 0s 368ms/step\n",
      "8/8 [==============================] - 0s 7ms/step\n",
      "\n",
      "📈 Gerando previsão para: #5\n",
      "1/1 [==============================] - 1s 957ms/step\n",
      "8/8 [==============================] - 0s 5ms/step\n",
      "\n",
      "📈 Gerando previsão para: #6\n",
      "1/1 [==============================] - 0s 369ms/step\n",
      "8/8 [==============================] - 0s 7ms/step\n",
      "\n",
      "📈 Gerando previsão para: #7\n",
      "1/1 [==============================] - 1s 1000ms/step\n",
      "8/8 [==============================] - 0s 18ms/step\n",
      "\n",
      "📈 Gerando previsão para: #8\n",
      "1/1 [==============================] - 1s 988ms/step\n",
      "8/8 [==============================] - 0s 7ms/step\n",
      "\n",
      "📈 Gerando previsão para: #9\n",
      "1/1 [==============================] - 1s 956ms/step\n",
      "8/8 [==============================] - 0s 10ms/step\n",
      "\n",
      "📈 Gerando previsão para: #10\n",
      "1/1 [==============================] - 1s 958ms/step\n",
      "8/8 [==============================] - 0s 10ms/step\n",
      "\n",
      "📈 Gerando previsão para: #11\n",
      "1/1 [==============================] - 1s 963ms/step\n",
      "8/8 [==============================] - 0s 17ms/step\n"
     ]
    }
   ],
   "execution_count": 31
  },
  {
   "metadata": {
    "ExecuteTime": {
     "end_time": "2025-04-20T23:25:48.775985Z",
     "start_time": "2025-04-20T23:25:48.771479Z"
    }
   },
   "cell_type": "code",
   "source": [
    "forecast = pd.DataFrame(forecast_set)\n",
    "df_scores = pd.DataFrame.from_dict(score_set, orient='index', columns=['RMSE'])"
   ],
   "id": "ea562eaf5874fbce",
   "outputs": [],
   "execution_count": 32
  },
  {
   "metadata": {
    "ExecuteTime": {
     "end_time": "2025-04-20T23:25:48.969275Z",
     "start_time": "2025-04-20T23:25:48.800109Z"
    }
   },
   "cell_type": "code",
   "source": [
    "forecast.to_excel('../Output/v5/previsoes_lstm.xlsx', index=False)\n",
    "df_scores.to_excel('../Output/v5/scores_lstm.xlsx')"
   ],
   "id": "f59efca5a17acc13",
   "outputs": [],
   "execution_count": 33
  },
  {
   "metadata": {
    "ExecuteTime": {
     "end_time": "2025-04-20T23:25:49.000257Z",
     "start_time": "2025-04-20T23:25:48.996196Z"
    }
   },
   "cell_type": "code",
   "source": "wrmse = lambda rmse: (rmse[:11] * (1 / 11)).sum()",
   "id": "c873c040a189e109",
   "outputs": [],
   "execution_count": 34
  },
  {
   "metadata": {
    "ExecuteTime": {
     "end_time": "2025-04-20T23:25:49.039717Z",
     "start_time": "2025-04-20T23:25:49.034840Z"
    }
   },
   "cell_type": "code",
   "source": "print(f'WRMSE = {wrmse(df_scores[\"RMSE\"])}')",
   "id": "3b2bb5de4d4fab39",
   "outputs": [
    {
     "name": "stdout",
     "output_type": "stream",
     "text": [
      "WRMSE = 0.08913640587115884\n"
     ]
    }
   ],
   "execution_count": 35
  }
 ],
 "metadata": {
  "kernelspec": {
   "display_name": "Python 3",
   "language": "python",
   "name": "python3"
  },
  "language_info": {
   "codemirror_mode": {
    "name": "ipython",
    "version": 2
   },
   "file_extension": ".py",
   "mimetype": "text/x-python",
   "name": "python",
   "nbconvert_exporter": "python",
   "pygments_lexer": "ipython2",
   "version": "2.7.6"
  }
 },
 "nbformat": 4,
 "nbformat_minor": 5
}
