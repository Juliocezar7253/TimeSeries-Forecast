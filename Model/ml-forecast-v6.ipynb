{
 "cells": [
  {
   "cell_type": "code",
   "id": "initial_id",
   "metadata": {
    "collapsed": true,
    "ExecuteTime": {
     "end_time": "2025-04-22T01:22:47.817479Z",
     "start_time": "2025-04-22T01:22:37.276008Z"
    }
   },
   "source": [
    "from prophet import Prophet\n",
    "from sklearn.metrics import root_mean_squared_error\n",
    "import pandas as pd\n",
    "import numpy as np"
   ],
   "outputs": [],
   "execution_count": 1
  },
  {
   "metadata": {},
   "cell_type": "markdown",
   "source": "#### Prophet -> WRMSE =",
   "id": "1987fb147f11f594"
  },
  {
   "metadata": {
    "ExecuteTime": {
     "end_time": "2025-04-22T01:22:48.215595Z",
     "start_time": "2025-04-22T01:22:47.835563Z"
    }
   },
   "cell_type": "code",
   "source": "df = pd.read_excel('../Input/DadosCompeticao.xlsx')",
   "id": "f332191d58a2da1b",
   "outputs": [],
   "execution_count": 2
  },
  {
   "metadata": {
    "ExecuteTime": {
     "end_time": "2025-04-22T01:23:14.215776Z",
     "start_time": "2025-04-22T01:23:14.211680Z"
    }
   },
   "cell_type": "code",
   "source": "wrmse = lambda rmse: (rmse[:11] * (1 / 11)).sum()",
   "id": "1014cce30db0992f",
   "outputs": [],
   "execution_count": 3
  },
  {
   "metadata": {},
   "cell_type": "markdown",
   "source": "#### Pred and Forecast",
   "id": "aa5c28468474736"
  },
  {
   "metadata": {
    "ExecuteTime": {
     "end_time": "2025-04-22T01:53:19.744229Z",
     "start_time": "2025-04-22T01:53:19.738886Z"
    }
   },
   "cell_type": "code",
   "source": [
    "def prophet(df, forecast_horizon=12):\n",
    "    forecasts = {}\n",
    "    scores = {}\n",
    "\n",
    "    for col in df.columns:\n",
    "        print(f\"==== Treinando {col} ====\")\n",
    "\n",
    "        # Preparando a série no formato esperado pelo Prophet\n",
    "        series = df[col].dropna()\n",
    "        ts = pd.DataFrame({\n",
    "            'ds': pd.date_range(start='2000-01-01', periods=len(series), freq='M'),\n",
    "            'y': series.values\n",
    "        })\n",
    "\n",
    "        model = Prophet()\n",
    "        model.fit(ts)\n",
    "\n",
    "        future = model.make_future_dataframe(periods=forecast_horizon, freq='M')\n",
    "        forecast = model.predict(future)\n",
    "\n",
    "        # Pegando as previsões do horizonte futuro\n",
    "        y_pred = forecast['yhat'][-forecast_horizon:].values\n",
    "        y_true = ts['y'].values[-forecast_horizon:]\n",
    "\n",
    "        rmse = root_mean_squared_error(y_true, y_pred)\n",
    "        scores[col] = rmse\n",
    "        forecasts[col] = y_pred\n",
    "\n",
    "    return forecasts, scores"
   ],
   "id": "4fbaad0e95d0d0e2",
   "outputs": [],
   "execution_count": 10
  },
  {
   "metadata": {},
   "cell_type": "code",
   "source": "forecasts, scores = prophet(df)",
   "id": "bf35b91ab2112247",
   "outputs": [],
   "execution_count": null
  },
  {
   "metadata": {},
   "cell_type": "markdown",
   "source": "#### Save results and show general score",
   "id": "2035d4cc492b6ae2"
  },
  {
   "metadata": {
    "ExecuteTime": {
     "end_time": "2025-04-22T01:47:43.810241Z",
     "start_time": "2025-04-22T01:47:43.804622Z"
    }
   },
   "cell_type": "code",
   "source": [
    "df_forecasts = pd.DataFrame(forecasts)\n",
    "df_scores = pd.DataFrame(list(scores.items()), columns=['Série', 'RMSE'])"
   ],
   "id": "623815eb07aba722",
   "outputs": [],
   "execution_count": 7
  },
  {
   "metadata": {
    "ExecuteTime": {
     "end_time": "2025-04-22T01:48:53.603869Z",
     "start_time": "2025-04-22T01:48:53.435492Z"
    }
   },
   "cell_type": "code",
   "source": [
    "df_forecasts.to_excel('../Output/v6/previsoes_prophet.xlsx', index=False)\n",
    "df_scores.to_excel('../Output/v6/scores_prophet.xlsx', index=False)"
   ],
   "id": "1a7037453cf4c673",
   "outputs": [],
   "execution_count": 8
  },
  {
   "metadata": {
    "ExecuteTime": {
     "end_time": "2025-04-22T01:48:55.315189Z",
     "start_time": "2025-04-22T01:48:55.309655Z"
    }
   },
   "cell_type": "code",
   "source": "print(f'WRMSE = {wrmse(df_scores[\"RMSE\"])}')",
   "id": "cb5f283fa2c5282e",
   "outputs": [
    {
     "name": "stdout",
     "output_type": "stream",
     "text": [
      "WRMSE = 0.10073893604682788\n"
     ]
    }
   ],
   "execution_count": 9
  }
 ],
 "metadata": {
  "kernelspec": {
   "display_name": "Python 3",
   "language": "python",
   "name": "python3"
  },
  "language_info": {
   "codemirror_mode": {
    "name": "ipython",
    "version": 2
   },
   "file_extension": ".py",
   "mimetype": "text/x-python",
   "name": "python",
   "nbconvert_exporter": "python",
   "pygments_lexer": "ipython2",
   "version": "2.7.6"
  }
 },
 "nbformat": 4,
 "nbformat_minor": 5
}
